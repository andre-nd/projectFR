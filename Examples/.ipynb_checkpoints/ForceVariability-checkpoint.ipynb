{
 "cells": [
  {
   "cell_type": "markdown",
   "metadata": {},
   "source": [
    "This notebook presents a simulation of 5000 ms of 400 descending commands and 800 motoneurons from soleus. The force is prduced by a Hill-type muscle model. "
   ]
  },
  {
   "cell_type": "code",
   "execution_count": 4,
   "metadata": {},
   "outputs": [],
   "source": [
    "import sys\n",
    "sys.path.insert(0, '..')\n",
    "import time\n",
    "import matplotlib.pyplot as plt\n",
    "%matplotlib notebook \n",
    "from IPython.display import set_matplotlib_formats\n",
    "set_matplotlib_formats('pdf', 'png')\n",
    "plt.rcParams['savefig.dpi'] = 75\n",
    "\n",
    "plt.rcParams['figure.autolayout'] = False\n",
    "plt.rcParams['figure.figsize'] = 10, 6\n",
    "plt.rcParams['axes.labelsize'] = 18\n",
    "plt.rcParams['axes.titlesize'] = 20\n",
    "plt.rcParams['font.size'] = 16\n",
    "plt.rcParams['lines.linewidth'] = 2.0\n",
    "plt.rcParams['lines.markersize'] = 8\n",
    "plt.rcParams['legend.fontsize'] = 14\n",
    "\n",
    "plt.rcParams['text.usetex'] = True\n",
    "plt.rcParams['font.family'] = \"serif\"\n",
    "plt.rcParams['font.serif'] = \"cm\"\n",
    "plt.rcParams['text.latex.preamble'] = \"\\usepackage{subdepth}, \\usepackage{type1cm}\"\n",
    "\n",
    "\n",
    "import numpy as np\n",
    "\n",
    "from Configuration import Configuration\n",
    "from MotorUnitPool import MotorUnitPool\n",
    "from NeuralTract import NeuralTract\n",
    "from AfferentPool import AfferentPool\n",
    "from SynapsesFactory import SynapsesFactory\n",
    "from jointAnkleForceTask import jointAnkleForceTask\n",
    "from numba import jit, prange\n",
    "import scipy as sc\n",
    "from scipy.signal import *\n"
   ]
  },
  {
   "cell_type": "code",
   "execution_count": 5,
   "metadata": {},
   "outputs": [],
   "source": [
    "conf = Configuration('confForceVariability.rmto')\n",
    "conf.simDuration_ms = 300 # Here I change simulation duration without changing the Configuration file.\n",
    "t = np.arange(0.0, conf.simDuration_ms, conf.timeStep_ms)"
   ]
  },
  {
   "cell_type": "code",
   "execution_count": null,
   "metadata": {},
   "outputs": [],
   "source": [
    "FR = np.array([95.0, 110.0 ,125.0, 140.0, 155.0, 170.0, 185.0, 200.0, 250])\n",
    "GammaOrder = np.array([7, 5, 4, 4, 4, 3, 2, 2, 1])\n",
    "condVelS = np.linspace(44/2.0, 44*2.0, 5)\n",
    "condVelFR = np.linspace(51/2.0, 51*2.0, 5)\n",
    "condVelFF1 = np.linspace(52/2.0, 52*2.0, 5)\n",
    "condVelFF2 = np.linspace(53/2.0,53*2, 5)\n",
    "\n",
    "\n",
    "forceSOL = np.empty((len(t),len(FR), len(condVelS)))\n",
    "forceMG = np.empty((len(t),len(FR), len(condVelS)))\n",
    "forceLG = np.empty((len(t),len(FR), len(condVelS)))\n",
    "torque = np.empty((len(t), len(FR), len(condVelS)))\n",
    "\n",
    "\n",
    "for m in xrange(len(condVelS)):\n",
    "    \n",
    "    conf.changeConfigurationParameter('axonDelayCondVel:MG-S',condVelS[l],condVelFR[l])\n",
    "    conf.changeConfigurationParameter('axonDelayCondVel:SOL-S',condVelS[l],condVelFR[l])\n",
    "    conf.changeConfigurationParameter('axonDelayCondVel:LG-S',condVelS[l],condVelFR[l])\n",
    "    conf.changeConfigurationParameter('axonDelayCondVel:MG-FR',condVelFR[l],condVelFF1[l])\n",
    "    conf.changeConfigurationParameter('axonDelayCondVel:SOL-FR',condVelFR[l],condVelFF1[l])\n",
    "    conf.changeConfigurationParameter('axonDelayCondVel:LG-FR',condVelFR[l],condVelFF1[l])\n",
    "    conf.changeConfigurationParameter('axonDelayCondVel:MG-FF',condVelFF1[l],condVelFF2[l])\n",
    "    conf.changeConfigurationParameter('axonDelayCondVel:SOL-FF',condVelFF1[l],condVelFF2[l])\n",
    "    conf.changeConfigurationParameter('axonDelayCondVel:LG-FF',condVelFF1[l],condVelFF2[l])\n",
    "    \n",
    "    \n",
    "    \n",
    "    pools = dict()\n",
    "    pools[0] = MotorUnitPool(conf, 'SOL')\n",
    "    pools[1] = MotorUnitPool(conf, 'MG')\n",
    "    pools[2] = MotorUnitPool(conf, 'LG')\n",
    "    pools[3] = NeuralTract(conf, 'CMExt')\n",
    "    ankle = jointAnkleForceTask(conf, pools)\n",
    "    Syn = SynapsesFactory(conf, pools)\n",
    "    del Syn\n",
    "\n",
    "\n",
    "\n",
    "    for l in xrange(0, len(FR)):\n",
    "        print('Firing Rate ' + str(FR[l]))\n",
    "        tic = time.time()\n",
    "        for i in xrange(0,len(t)-1): \n",
    "            pools[3].atualizePool(t[i], FR[l], GammaOrder[l])\n",
    "            ankle.atualizeAnkle(t[i], 0.0)\n",
    "            for j in xrange(3):\n",
    "                pools[j].atualizeMotorUnitPool(t[i])\n",
    "            ankle.computeTorque(t[i])\n",
    "\n",
    "        toc = time.time() \n",
    "\n",
    "\n",
    "        forceSOL[:,l,m] = np.squeeze(pools[0].Muscle.force)\n",
    "        forceMG[:l,m] = np.squeeze(pools[1].Muscle.force)\n",
    "        forceLG[:,l,m] = np.squeeze(pools[2].Muscle.force)\n",
    "        torque[:,l,m] = np.squeeze(ankle.ankleTorque_Nm)\n",
    "\n",
    "\n",
    "        print str(toc - tic) + ' seconds'\n",
    "        for k in xrange(0, len(pools)):\n",
    "            pools[k].reset()"
   ]
  },
  {
   "cell_type": "code",
   "execution_count": null,
   "metadata": {},
   "outputs": [],
   "source": [
    "forceLG.shape\n",
    "\n",
    "plt.figure()\n",
    "plt.plot(t, torque)"
   ]
  },
  {
   "cell_type": "code",
   "execution_count": null,
   "metadata": {},
   "outputs": [],
   "source": [
    "plt.figure()\n",
    "plt.plot(t, forceSOL)"
   ]
  },
  {
   "cell_type": "code",
   "execution_count": null,
   "metadata": {},
   "outputs": [],
   "source": [
    "plt.figure()\n",
    "plt.plot(t, forceMG)"
   ]
  },
  {
   "cell_type": "code",
   "execution_count": null,
   "metadata": {},
   "outputs": [],
   "source": [
    "plt.figure()\n",
    "plt.plot(t, forceLG)"
   ]
  },
  {
   "cell_type": "code",
   "execution_count": null,
   "metadata": {},
   "outputs": [],
   "source": [
    "np.save('forceSol',forceSOL,)\n",
    "np.save('forceMG', forceMG)\n",
    "np.save('forceLG', forceLG)\n",
    "np.save('torque', torque)"
   ]
  },
  {
   "cell_type": "code",
   "execution_count": null,
   "metadata": {},
   "outputs": [],
   "source": [
    "X=np.load('forceSol.npy')"
   ]
  },
  {
   "cell_type": "code",
   "execution_count": null,
   "metadata": {},
   "outputs": [],
   "source": [
    "X"
   ]
  },
  {
   "cell_type": "code",
   "execution_count": null,
   "metadata": {},
   "outputs": [],
   "source": []
  }
 ],
 "metadata": {
  "celltoolbar": "Edit Metadata",
  "kernelspec": {
   "display_name": "Python [default]",
   "language": "python",
   "name": "python2"
  },
  "language_info": {
   "codemirror_mode": {
    "name": "ipython",
    "version": 2
   },
   "file_extension": ".py",
   "mimetype": "text/x-python",
   "name": "python",
   "nbconvert_exporter": "python",
   "pygments_lexer": "ipython2",
   "version": "2.7.14"
  }
 },
 "nbformat": 4,
 "nbformat_minor": 1
}
