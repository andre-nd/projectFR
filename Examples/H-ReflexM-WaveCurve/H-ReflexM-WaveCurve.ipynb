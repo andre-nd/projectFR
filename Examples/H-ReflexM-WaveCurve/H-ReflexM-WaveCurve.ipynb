{
 "cells": [
  {
   "cell_type": "code",
   "execution_count": null,
   "metadata": {
    "nbpresent": {
     "id": "ceb8fa77-fcda-402d-82cb-f0a0edfee6ae"
    }
   },
   "outputs": [],
   "source": [
    "import sys\n",
    "sys.path.insert(0, '..')\n",
    "import time\n",
    "import matplotlib.pyplot as plt\n",
    "import matplotlib.gridspec as gridspec\n",
    "%matplotlib notebook  \n",
    "import numpy as np\n",
    "\n",
    "\n",
    "from Configuration import Configuration\n",
    "from MotorUnitPool import MotorUnitPool\n",
    "from AfferentPool import AfferentPool\n",
    "from SynapsesFactory import SynapsesFactory"
   ]
  },
  {
   "cell_type": "code",
   "execution_count": null,
   "metadata": {
    "nbpresent": {
     "id": "2a1dc27e-baa4-470f-85e6-edb0e014c93e"
    }
   },
   "outputs": [],
   "source": [
    "Nsim = 15\n",
    "FirstStim = 9\n",
    "LastStim = 20.0"
   ]
  },
  {
   "cell_type": "code",
   "execution_count": null,
   "metadata": {
    "nbpresent": {
     "id": "3b7e3de7-df30-4804-993b-9cf0a42cdcef"
    }
   },
   "outputs": [],
   "source": [
    "conf = Configuration('confH-ReflexM-WaveCurve.rmto')"
   ]
  },
  {
   "cell_type": "code",
   "execution_count": null,
   "metadata": {
    "nbpresent": {
     "id": "88425207-4a98-4eab-905b-8b94beb93225"
    }
   },
   "outputs": [],
   "source": [
    "print Nsim\n",
    "print FirstStim\n",
    "print LastStim"
   ]
  },
  {
   "cell_type": "code",
   "execution_count": null,
   "metadata": {
    "nbpresent": {
     "id": "d7de67fe-1949-4ad7-bf8c-61247f709bdc"
    }
   },
   "outputs": [],
   "source": [
    "t = np.arange(0.0, conf.simDuration_ms, conf.timeStep_ms)\n",
    "\n",
    "Mp = np.zeros((int(Nsim), 1))\n",
    "Hp = np.zeros((int(Nsim), 1))\n",
    "Stim = np.zeros((int(Nsim), 1))\n",
    "emg = np.zeros([len(t), int(Nsim)])\n",
    "pools = dict()\n",
    "pools[0] = MotorUnitPool(conf, 'SOL')\n",
    "pools[1] = AfferentPool(conf,'Ia', 'SOL')\n",
    "pools[2]= AfferentPool(conf,'Ia', 'LG')\n",
    "Syn = SynapsesFactory(conf, pools)\n",
    "del Syn "
   ]
  },
  {
   "cell_type": "code",
   "execution_count": null,
   "metadata": {
    "nbpresent": {
     "id": "a82c7ba9-3585-418e-bb54-93415a6f5e9f"
    },
    "scrolled": true
   },
   "outputs": [],
   "source": [
    "for j  in xrange(0, int(Nsim)):\n",
    "    Stim[j] = FirstStim + j * (LastStim - FirstStim) / (Nsim - 1)\n",
    "    conf.changeConfigurationParameter('stimIntensity_PTN', FirstStim + j * (LastStim - FirstStim) / (Nsim - 1),'')\n",
    "    for k in xrange(0, len(pools)):\n",
    "        for i in xrange(0,len(pools[k].unit)):\n",
    "            pools[k].unit[i].createStimulus()\n",
    "    tic = time.time()\n",
    "    for i in xrange(0, len(t)-1):\n",
    "        pools[0].atualizeMotorUnitPool(t[i])\n",
    "        pools[1].atualizeAfferentPool(t[i],0)\n",
    "        pools[2].atualizeAfferentPool(t[i],0)\n",
    "    toc = time.time()\n",
    "    print str(toc - tic) + ' seconds'\n",
    "    pools[0].getMotorUnitPoolEMG()\n",
    "    Mp[j] = np.max(pools[0].emg[t<20]) - np.min(pools[0].emg[t<20])\n",
    "    Hp[j] = np.max(pools[0].emg[t>20]) - np.min(pools[0].emg[t>20])\n",
    "    print Mp[j]\n",
    "    print Hp[j]\n",
    "    emg[:,[j]] = pools[0].emg\n",
    "    pools[0].listSpikes()\n",
    "    pools[1].listSpikes()\n",
    "    pools[2].listSpikes()\n",
    "    sp1 = pools[0].poolTerminalSpikes\n",
    "    sp2 = pools[1].poolTerminalSpikes\n",
    "    sp2 = pools[2].poolTerminalSpikes\n",
    "    for k in xrange(0, len(pools)):\n",
    "        pools[k].reset()"
   ]
  },
  {
   "cell_type": "code",
   "execution_count": null,
   "metadata": {
    "nbpresent": {
     "id": "28a31372-e14e-4a5d-ab91-176e8d67f5b3"
    }
   },
   "outputs": [],
   "source": [
    "\n",
    "f1 = plt.figure()\n",
    "plt.plot(Stim, Hp, Stim, Mp)\n"
   ]
  },
  {
   "cell_type": "code",
   "execution_count": null,
   "metadata": {
    "nbpresent": {
     "id": "2e4fa5b6-e721-4d15-bffe-fc01b51e76d4"
    }
   },
   "outputs": [],
   "source": [
    "np.max(Hp)/np.max(Mp)"
   ]
  },
  {
   "cell_type": "code",
   "execution_count": null,
   "metadata": {
    "nbpresent": {
     "id": "c458e85d-bc14-439e-a8a7-6b5cba7e37a3"
    }
   },
   "outputs": [],
   "source": [
    "Mp"
   ]
  },
  {
   "cell_type": "code",
   "execution_count": null,
   "metadata": {
    "nbpresent": {
     "id": "fe0f534e-be7c-4ae9-8dd2-6799162768c2"
    }
   },
   "outputs": [],
   "source": [
    "f2 = plt.figure()\n",
    "plt.plot(t, emg[:,14])\n"
   ]
  },
  {
   "cell_type": "code",
   "execution_count": null,
   "metadata": {
    "nbpresent": {
     "id": "521563b4-1df6-4c83-8fa1-366d4437b6ad"
    }
   },
   "outputs": [],
   "source": [
    "pools[0].listSpikes()"
   ]
  },
  {
   "cell_type": "code",
   "execution_count": null,
   "metadata": {
    "nbpresent": {
     "id": "a221a763-9a21-4442-952b-2e686979dae3"
    },
    "scrolled": true
   },
   "outputs": [],
   "source": [
    "f3 = plt.figure()\n",
    "plt.plot(sp1[:, 0],\n",
    "         sp1[:, 1]+1, '.')\n",
    "plt.xlabel('t (ms)')\n",
    "plt.ylabel('Motor Unit index')\n"
   ]
  },
  {
   "cell_type": "code",
   "execution_count": null,
   "metadata": {
    "nbpresent": {
     "id": "fb42f6a8-36e8-4fe9-82f1-fa50952483c5"
    }
   },
   "outputs": [],
   "source": [
    "pools[0].poolTerminalSpikes[:, 1]"
   ]
  },
  {
   "cell_type": "code",
   "execution_count": 2,
   "metadata": {
    "nbpresent": {
     "id": "b5344c29-c72a-42fd-a899-4214ac92b944"
    }
   },
   "outputs": [
    {
     "name": "stderr",
     "output_type": "stream",
     "text": [
      "/home/rnwatanabe/miniconda3/lib/python3.6/site-packages/fortranmagic.py:147: UserWarning: get_ipython_cache_dir has moved to the IPython.paths module since IPython 4.0.\n",
      "  self._lib_dir = os.path.join(get_ipython_cache_dir(), 'fortran')\n"
     ]
    },
    {
     "data": {
      "application/javascript": [
       "$.getScript(\"https://raw.github.com/marijnh/CodeMirror/master/mode/fortran/fortran.js\", function () {\n",
       "IPython.config.cell_magic_highlight['magic_fortran'] = {'reg':[/^%%fortran/]};});\n"
      ]
     },
     "metadata": {},
     "output_type": "display_data"
    }
   ],
   "source": [
    "%load_ext fortranmagic\n"
   ]
  },
  {
   "cell_type": "code",
   "execution_count": 3,
   "metadata": {},
   "outputs": [
    {
     "name": "stdout",
     "output_type": "stream",
     "text": [
      "Running...\n",
      "   /home/rnwatanabe/miniconda3/bin/python -m numpy.f2py --fcompiler=gnu95 -m _fortran_magic_5806b92bea7a495699e54450c5bb35c5 -c /home/rnwatanabe/.cache/ipython/fortran/_fortran_magic_5806b92bea7a495699e54450c5bb35c5.f90\n",
      "running build\n",
      "running config_cc\n",
      "unifing config_cc, config, build_clib, build_ext, build commands --compiler options\n",
      "running config_fc\n",
      "unifing config_fc, config, build_clib, build_ext, build commands --fcompiler options\n",
      "running build_src\n",
      "build_src\n",
      "building extension \"_fortran_magic_5806b92bea7a495699e54450c5bb35c5\" sources\n",
      "f2py options: []\n",
      "f2py:> /tmp/tmp_elg9dwo/src.linux-x86_64-3.6/_fortran_magic_5806b92bea7a495699e54450c5bb35c5module.c\n",
      "creating /tmp/tmp_elg9dwo/src.linux-x86_64-3.6\n",
      "Reading fortran codes...\n",
      "\tReading file '/home/rnwatanabe/.cache/ipython/fortran/_fortran_magic_5806b92bea7a495699e54450c5bb35c5.f90' (format:free)\n",
      "Line #99 in /home/rnwatanabe/.cache/ipython/fortran/_fortran_magic_5806b92bea7a495699e54450c5bb35c5.f90:\"            call conf%changeConfigurationParameter(paramTag, value1,value2)\"\n",
      "\tanalyzeline: No name/args pattern found for line.\n"
     ]
    },
    {
     "name": "stderr",
     "output_type": "stream",
     "text": [
      "Traceback (most recent call last):\n",
      "  File \"/home/rnwatanabe/miniconda3/lib/python3.6/runpy.py\", line 193, in _run_module_as_main\n",
      "    \"__main__\", mod_spec)\n",
      "  File \"/home/rnwatanabe/miniconda3/lib/python3.6/runpy.py\", line 85, in _run_code\n",
      "    exec(code, run_globals)\n",
      "  File \"/home/rnwatanabe/miniconda3/lib/python3.6/site-packages/numpy/f2py/__main__.py\", line 27, in <module>\n",
      "    main()\n",
      "  File \"/home/rnwatanabe/miniconda3/lib/python3.6/site-packages/numpy/f2py/f2py2e.py\", line 648, in main\n",
      "    run_compile()\n",
      "  File \"/home/rnwatanabe/miniconda3/lib/python3.6/site-packages/numpy/f2py/f2py2e.py\", line 633, in run_compile\n",
      "    setup(ext_modules=[ext])\n",
      "  File \"/home/rnwatanabe/miniconda3/lib/python3.6/site-packages/numpy/distutils/core.py\", line 169, in setup\n",
      "    return old_setup(**new_attr)\n",
      "  File \"/home/rnwatanabe/miniconda3/lib/python3.6/distutils/core.py\", line 148, in setup\n",
      "    dist.run_commands()\n",
      "  File \"/home/rnwatanabe/miniconda3/lib/python3.6/distutils/dist.py\", line 955, in run_commands\n",
      "    self.run_command(cmd)\n",
      "  File \"/home/rnwatanabe/miniconda3/lib/python3.6/distutils/dist.py\", line 974, in run_command\n",
      "    cmd_obj.run()\n",
      "  File \"/home/rnwatanabe/miniconda3/lib/python3.6/site-packages/numpy/distutils/command/build.py\", line 47, in run\n",
      "    old_build.run(self)\n",
      "  File \"/home/rnwatanabe/miniconda3/lib/python3.6/distutils/command/build.py\", line 135, in run\n",
      "    self.run_command(cmd_name)\n",
      "  File \"/home/rnwatanabe/miniconda3/lib/python3.6/distutils/cmd.py\", line 313, in run_command\n",
      "    self.distribution.run_command(command)\n",
      "  File \"/home/rnwatanabe/miniconda3/lib/python3.6/distutils/dist.py\", line 974, in run_command\n",
      "    cmd_obj.run()\n",
      "  File \"/home/rnwatanabe/miniconda3/lib/python3.6/site-packages/numpy/distutils/command/build_src.py\", line 148, in run\n",
      "    self.build_sources()\n",
      "  File \"/home/rnwatanabe/miniconda3/lib/python3.6/site-packages/numpy/distutils/command/build_src.py\", line 165, in build_sources\n",
      "    self.build_extension_sources(ext)\n",
      "  File \"/home/rnwatanabe/miniconda3/lib/python3.6/site-packages/numpy/distutils/command/build_src.py\", line 327, in build_extension_sources\n",
      "    sources = self.f2py_sources(sources, ext)\n",
      "  File \"/home/rnwatanabe/miniconda3/lib/python3.6/site-packages/numpy/distutils/command/build_src.py\", line 564, in f2py_sources\n",
      "    ['-m', ext_name]+f_sources)\n",
      "  File \"/home/rnwatanabe/miniconda3/lib/python3.6/site-packages/numpy/f2py/f2py2e.py\", line 408, in run_main\n",
      "    postlist = callcrackfortran(files, options)\n",
      "  File \"/home/rnwatanabe/miniconda3/lib/python3.6/site-packages/numpy/f2py/f2py2e.py\", line 329, in callcrackfortran\n",
      "    postlist = crackfortran.crackfortran(files)\n",
      "  File \"/home/rnwatanabe/miniconda3/lib/python3.6/site-packages/numpy/f2py/crackfortran.py\", line 3246, in crackfortran\n",
      "    readfortrancode(files, crackline)\n",
      "  File \"/home/rnwatanabe/miniconda3/lib/python3.6/site-packages/numpy/f2py/crackfortran.py\", line 510, in readfortrancode\n",
      "    dowithline(finalline)\n",
      "  File \"/home/rnwatanabe/miniconda3/lib/python3.6/site-packages/numpy/f2py/crackfortran.py\", line 781, in crackline\n",
      "    analyzeline(m, pat[1], line)\n",
      "  File \"/home/rnwatanabe/miniconda3/lib/python3.6/site-packages/numpy/f2py/crackfortran.py\", line 935, in analyzeline\n",
      "    for x in markoutercomma(args).split('@,@')])\n",
      "  File \"/home/rnwatanabe/miniconda3/lib/python3.6/site-packages/numpy/f2py/crackfortran.py\", line 821, in markoutercomma\n",
      "    assert not f, repr((f, line, l, cc))\n",
      "AssertionError: (1, '1@)@%unit@(@i@)@%createstimulus@(@', '1@)@%unit@(@i@)@%createstimulus@(@', ')')\n"
     ]
    },
    {
     "ename": "RuntimeError",
     "evalue": "f2py failed, see output",
     "output_type": "error",
     "traceback": [
      "\u001b[0;31m---------------------------------------------------------------------------\u001b[0m",
      "\u001b[0;31mRuntimeError\u001b[0m                              Traceback (most recent call last)",
      "\u001b[0;32m<ipython-input-3-321f63001317>\u001b[0m in \u001b[0;36m<module>\u001b[0;34m()\u001b[0m\n\u001b[0;32m----> 1\u001b[0;31m \u001b[0mget_ipython\u001b[0m\u001b[0;34m(\u001b[0m\u001b[0;34m)\u001b[0m\u001b[0;34m.\u001b[0m\u001b[0mrun_cell_magic\u001b[0m\u001b[0;34m(\u001b[0m\u001b[0;34m'fortran'\u001b[0m\u001b[0;34m,\u001b[0m \u001b[0;34m'-vvv --fcompiler gnu95'\u001b[0m\u001b[0;34m,\u001b[0m \u001b[0;34m'\\nmodule HReflexMWave\\n    use MotorUnitPoolClass\\n    use NeuralTractClass\\n    use InterneuronPoolClass\\n    use SynapticNoiseClass\\n    use ConfigurationClass\\n    use ogpf \\n    use randomSeedInitialize\\n    use SynapsesFactoryModule\\n    use jointAnkleForceTaskClass\\n    use AfferentPoolClass\\n    implicit none \\n    \\n            \\n    contains\\n    subroutine executeProg()\\n        type(Configuration), target :: conf\\n        real(wp), parameter :: pi = 4 * atan(1.0_wp)    \\n        real(wp) :: dt\\n        real(wp) :: tf\\n        integer :: timeLength\\n        integer :: i, j, k\\n        real(wp), dimension(:), allocatable :: t\\n        real(wp) :: tic, toc\\n        type(gpf) :: gp\\n        character(len = 80) :: pool, muscle, paramTag\\n        character(len = 80) :: filename = \\'confH-ReflexM-WaveCurve.rmto\\'\\n        type(MotorUnitPool), dimension(:), allocatable, target :: motorUnitPools\\n        type(NeuralTract), dimension(:), allocatable :: neuralTractPools    \\n        type(InterneuronPool), dimension(:), allocatable, target :: interneuronPools    \\n        type(SynapticNoise), dimension(:), allocatable:: synapticNoisePools   \\n        type(AfferentPool), dimension(:), allocatable:: afferentPools    \\n        type(jointAnkleForceTask) :: ankle\\n        real(wp) :: angle\\n        real(wp) , dimension(200):: Amp, phase\\n        integer :: Nsim\\n        real(wp) :: FirstStim, LastStim\\n        real(wp), dimension(:), allocatable :: Mp, Hp, Stim\\n        real(wp), dimension(:,:), allocatable :: emg\\n        character(len = 80) :: value1, value2\\n        real(wp) :: spindleFR\\n        character(len = 3) :: fileNumber\\n\\n        Nsim = 35\\n        FirstStim = 9.0\\n        LastStim = 25\\n\\n        call init_random_seed()\\n\\n        conf = Configuration(filename)\\n\\n        tf = conf%simDuration_ms\\n        dt = conf%timeStep_ms\\n        timeLength = int(tf/dt)\\n\\n        allocate(t(timeLength))\\n\\n        t = [(dt*(i-1), i=1, timeLength)]\\n\\n        allocate(emg(timeLength, Nsim))\\n        allocate(Mp(Nsim))\\n        allocate(Hp(Nsim))\\n        allocate(Stim(Nsim))   \\n\\n\\n\\n        allocate(afferentPools(2))\\n        pool = \\'Ia\\'\\n        muscle = \\'SOL\\'\\n        afferentPools(1) = AfferentPool(conf, pool, muscle)\\n\\n        pool = \\'Ia\\'\\n        muscle = \\'LG\\'\\n        afferentPools(2) = AfferentPool(conf, pool, muscle)\\n\\n        allocate(neuralTractPools(0))\\n\\n        allocate(motorUnitPools(1))\\n        pool = \\'SOL\\'\\n        motorUnitPools(1) = MotorUnitPool(conf, pool)    \\n\\n\\n        ankle = jointAnkleForceTask(conf, motorUnitPools)\\n        allocate(interneuronPools(0))\\n\\n        synapticNoisePools = synapseFactory(conf, neuralTractPools, &\\n                                            motorUnitPools, &\\n                                            interneuronPools, &\\n                                            afferentPools)\\n\\n\\n        do j = 1, Nsim\\n            Stim(j) = FirstStim + j * (LastStim - FirstStim) / (Nsim - 1.0)\\n            paramTag = \\'stimIntensity_PTN\\'\\n            write(value1, \\'(F15.6)\\')Stim(j)\\n            value2 = \\'\\'\\n            call conf%changeConfigurationParameter(paramTag, value1,value2)\\n\\n            do i = 1, size(motorUnitPools(1)%unit)\\n                call motorUnitPools(1)%unit(i)%createStimulus()\\n            end do\\n\\n            do i = 1, size(afferentPools(1)%unit)\\n                call afferentPools(1)%unit(i)%createStimulus()\\n            end do\\n            do i = 1, size(afferentPools(2)%unit)\\n                call afferentPools(2)%unit(i)%createStimulus()\\n            end do\\n\\n\\n            spindleFR = 0.0\\n            call cpu_time(tic)\\n            do i = 1, timeLength\\n                call motorUnitPools(1)%atualizeMotorUnitPool(t(i))\\n                call afferentPools(1)%atualizeAfferentPool(t(i),spindleFR)\\n                call afferentPools(2)%atualizeAfferentPool(t(i),spindleFR)\\n            end do\\n            call cpu_time(toc)\\n            print \\'(F15.6, A)\\', toc - tic, \\' seconds\\'\\n            call motorUnitPools(1)%getMotorUnitPoolEMG()\\n            Mp(j) = maxval(motorUnitPools(1)%emg(1:500)) - minval(motorUnitPools(1)%emg(1:500))\\n            Hp(j) = maxval(motorUnitPools(1)%emg(501:)) - minval(motorUnitPools(1)%emg(501:))\\n            print \\'(F15.6)\\', Mp(j)\\n            print \\'(F15.6)\\', Hp(j)\\n            emg(:,j) = motorUnitPools(1)%emg\\n            call motorUnitPools(1)%listSpikes()\\n            call afferentPools(1)%listSpikes()\\n            call afferentPools(2)%listSpikes()\\n            write(fileNumber, \\'(I2)\\')j\\n            filename = \\'spikes\\'// fileNumber //\\'.txt\\'\\n            open(1, file=filename, status = \\'replace\\') \\n\\n            do i = 1, size(motorUnitPools(1)%poolTerminalSpikes, 1)            \\n                write(1, \\'(F15.6, 1X, F15.1)\\') motorUnitPools(1)%poolTerminalSpikes(i,1),&\\n                            motorUnitPools(1)%poolTerminalSpikes(i,2)\\n            end do\\n            close(1)\\n\\n            call motorUnitPools(1)%reset()\\n            call afferentPools(1)%reset()\\n            call afferentPools(2)%reset()\\n        end do\\n\\n        call gp%title(\\'EMG\\')\\n        call gp%xlabel(\\'t (ms))\\')\\n        call gp%ylabel(\\'emg (mV)\\')\\n        call gp%plot(t, emg(:,10),  \\'with line lw 2 lc rgb \"#0008B0\"\\')\\n\\n        call gp%title(\\'Hp\\')\\n        call gp%xlabel(\\'Stimulus intensity (mA)\\')\\n        call gp%ylabel(\\'EMG peak (mV)\\')\\n        call gp%plot(Stim, Hp, \\'with line lw 2 lc rgb \"#0008B0\"\\')\\n\\n        call gp%title(\\'Mp\\')\\n        call gp%xlabel(\\'Stimulus intensity (mA)\\')\\n        call gp%ylabel(\\'EMG peak (mV)\\')\\n        call gp%plot(Stim, Mp, \\'with line lw 2 lc rgb \"#0008B0\"\\')\\n\\n        call gp%title(\\'Mp-Hp\\')\\n        call gp%xlabel(\\'Stimulus intensity (mA)\\')\\n        call gp%ylabel(\\'EMG peak (mV)\\')\\n        call gp%plot(x1=Stim, y1=Mp, ls1=\\'with line lw 2 lc rgb \"blue\"\\', &\\n                     x2 = Stim, y2 = Hp, ls2=\\'with line lw 2 lc rgb \"red\"\\')\\n\\n        print \\'(F15.6)\\', maxval(Hp)/maxval(Mp)   \\n    end subroutine\\n\\n    \\nend module HReflexMWave'\u001b[0m\u001b[0;34m)\u001b[0m\u001b[0;34m\u001b[0m\u001b[0m\n\u001b[0m",
      "\u001b[0;32m~/miniconda3/lib/python3.6/site-packages/IPython/core/interactiveshell.py\u001b[0m in \u001b[0;36mrun_cell_magic\u001b[0;34m(self, magic_name, line, cell)\u001b[0m\n\u001b[1;32m   2165\u001b[0m             \u001b[0mmagic_arg_s\u001b[0m \u001b[0;34m=\u001b[0m \u001b[0mself\u001b[0m\u001b[0;34m.\u001b[0m\u001b[0mvar_expand\u001b[0m\u001b[0;34m(\u001b[0m\u001b[0mline\u001b[0m\u001b[0;34m,\u001b[0m \u001b[0mstack_depth\u001b[0m\u001b[0;34m)\u001b[0m\u001b[0;34m\u001b[0m\u001b[0m\n\u001b[1;32m   2166\u001b[0m             \u001b[0;32mwith\u001b[0m \u001b[0mself\u001b[0m\u001b[0;34m.\u001b[0m\u001b[0mbuiltin_trap\u001b[0m\u001b[0;34m:\u001b[0m\u001b[0;34m\u001b[0m\u001b[0m\n\u001b[0;32m-> 2167\u001b[0;31m                 \u001b[0mresult\u001b[0m \u001b[0;34m=\u001b[0m \u001b[0mfn\u001b[0m\u001b[0;34m(\u001b[0m\u001b[0mmagic_arg_s\u001b[0m\u001b[0;34m,\u001b[0m \u001b[0mcell\u001b[0m\u001b[0;34m)\u001b[0m\u001b[0;34m\u001b[0m\u001b[0m\n\u001b[0m\u001b[1;32m   2168\u001b[0m             \u001b[0;32mreturn\u001b[0m \u001b[0mresult\u001b[0m\u001b[0;34m\u001b[0m\u001b[0m\n\u001b[1;32m   2169\u001b[0m \u001b[0;34m\u001b[0m\u001b[0m\n",
      "\u001b[0;32m<decorator-gen-127>\u001b[0m in \u001b[0;36mfortran\u001b[0;34m(self, line, cell)\u001b[0m\n",
      "\u001b[0;32m~/miniconda3/lib/python3.6/site-packages/IPython/core/magic.py\u001b[0m in \u001b[0;36m<lambda>\u001b[0;34m(f, *a, **k)\u001b[0m\n\u001b[1;32m    185\u001b[0m     \u001b[0;31m# but it's overkill for just that one bit of state.\u001b[0m\u001b[0;34m\u001b[0m\u001b[0;34m\u001b[0m\u001b[0m\n\u001b[1;32m    186\u001b[0m     \u001b[0;32mdef\u001b[0m \u001b[0mmagic_deco\u001b[0m\u001b[0;34m(\u001b[0m\u001b[0marg\u001b[0m\u001b[0;34m)\u001b[0m\u001b[0;34m:\u001b[0m\u001b[0;34m\u001b[0m\u001b[0m\n\u001b[0;32m--> 187\u001b[0;31m         \u001b[0mcall\u001b[0m \u001b[0;34m=\u001b[0m \u001b[0;32mlambda\u001b[0m \u001b[0mf\u001b[0m\u001b[0;34m,\u001b[0m \u001b[0;34m*\u001b[0m\u001b[0ma\u001b[0m\u001b[0;34m,\u001b[0m \u001b[0;34m**\u001b[0m\u001b[0mk\u001b[0m\u001b[0;34m:\u001b[0m \u001b[0mf\u001b[0m\u001b[0;34m(\u001b[0m\u001b[0;34m*\u001b[0m\u001b[0ma\u001b[0m\u001b[0;34m,\u001b[0m \u001b[0;34m**\u001b[0m\u001b[0mk\u001b[0m\u001b[0;34m)\u001b[0m\u001b[0;34m\u001b[0m\u001b[0m\n\u001b[0m\u001b[1;32m    188\u001b[0m \u001b[0;34m\u001b[0m\u001b[0m\n\u001b[1;32m    189\u001b[0m         \u001b[0;32mif\u001b[0m \u001b[0mcallable\u001b[0m\u001b[0;34m(\u001b[0m\u001b[0marg\u001b[0m\u001b[0;34m)\u001b[0m\u001b[0;34m:\u001b[0m\u001b[0;34m\u001b[0m\u001b[0m\n",
      "\u001b[0;32m~/miniconda3/lib/python3.6/site-packages/fortranmagic.py\u001b[0m in \u001b[0;36mfortran\u001b[0;34m(self, line, cell)\u001b[0m\n\u001b[1;32m    377\u001b[0m                              verbosity=args.verbosity)\n\u001b[1;32m    378\u001b[0m         \u001b[0;32mif\u001b[0m \u001b[0mres\u001b[0m \u001b[0;34m!=\u001b[0m \u001b[0;36m0\u001b[0m\u001b[0;34m:\u001b[0m\u001b[0;34m\u001b[0m\u001b[0m\n\u001b[0;32m--> 379\u001b[0;31m            \u001b[0;32mraise\u001b[0m \u001b[0mRuntimeError\u001b[0m\u001b[0;34m(\u001b[0m\u001b[0;34m\"f2py failed, see output\"\u001b[0m\u001b[0;34m)\u001b[0m\u001b[0;34m\u001b[0m\u001b[0m\n\u001b[0m\u001b[1;32m    380\u001b[0m \u001b[0;34m\u001b[0m\u001b[0m\n\u001b[1;32m    381\u001b[0m         \u001b[0mself\u001b[0m\u001b[0;34m.\u001b[0m\u001b[0m_code_cache\u001b[0m\u001b[0;34m[\u001b[0m\u001b[0mkey\u001b[0m\u001b[0;34m]\u001b[0m \u001b[0;34m=\u001b[0m \u001b[0mmodule_name\u001b[0m\u001b[0;34m\u001b[0m\u001b[0m\n",
      "\u001b[0;31mRuntimeError\u001b[0m: f2py failed, see output"
     ]
    }
   ],
   "source": [
    "%%fortran -vvv --fcompiler gnu95\n",
    "\n",
    "module HReflexMWave\n",
    "    use MotorUnitPoolClass\n",
    "    use NeuralTractClass\n",
    "    use InterneuronPoolClass\n",
    "    use SynapticNoiseClass\n",
    "    use ConfigurationClass\n",
    "    use ogpf \n",
    "    use randomSeedInitialize\n",
    "    use SynapsesFactoryModule\n",
    "    use jointAnkleForceTaskClass\n",
    "    use AfferentPoolClass\n",
    "    implicit none \n",
    "    \n",
    "            \n",
    "    contains\n",
    "    subroutine executeProg()\n",
    "        type(Configuration), target :: conf\n",
    "        real(wp), parameter :: pi = 4 * atan(1.0_wp)    \n",
    "        real(wp) :: dt\n",
    "        real(wp) :: tf\n",
    "        integer :: timeLength\n",
    "        integer :: i, j, k\n",
    "        real(wp), dimension(:), allocatable :: t\n",
    "        real(wp) :: tic, toc\n",
    "        type(gpf) :: gp\n",
    "        character(len = 80) :: pool, muscle, paramTag\n",
    "        character(len = 80) :: filename = 'confH-ReflexM-WaveCurve.rmto'\n",
    "        type(MotorUnitPool), dimension(:), allocatable, target :: motorUnitPools\n",
    "        type(NeuralTract), dimension(:), allocatable :: neuralTractPools    \n",
    "        type(InterneuronPool), dimension(:), allocatable, target :: interneuronPools    \n",
    "        type(SynapticNoise), dimension(:), allocatable:: synapticNoisePools   \n",
    "        type(AfferentPool), dimension(:), allocatable:: afferentPools    \n",
    "        type(jointAnkleForceTask) :: ankle\n",
    "        real(wp) :: angle\n",
    "        real(wp) , dimension(200):: Amp, phase\n",
    "        integer :: Nsim\n",
    "        real(wp) :: FirstStim, LastStim\n",
    "        real(wp), dimension(:), allocatable :: Mp, Hp, Stim\n",
    "        real(wp), dimension(:,:), allocatable :: emg\n",
    "        character(len = 80) :: value1, value2\n",
    "        real(wp) :: spindleFR\n",
    "        character(len = 3) :: fileNumber\n",
    "\n",
    "        Nsim = 35\n",
    "        FirstStim = 9.0\n",
    "        LastStim = 25\n",
    "\n",
    "        call init_random_seed()\n",
    "\n",
    "        conf = Configuration(filename)\n",
    "\n",
    "        tf = conf%simDuration_ms\n",
    "        dt = conf%timeStep_ms\n",
    "        timeLength = int(tf/dt)\n",
    "\n",
    "        allocate(t(timeLength))\n",
    "\n",
    "        t = [(dt*(i-1), i=1, timeLength)]\n",
    "\n",
    "        allocate(emg(timeLength, Nsim))\n",
    "        allocate(Mp(Nsim))\n",
    "        allocate(Hp(Nsim))\n",
    "        allocate(Stim(Nsim))   \n",
    "\n",
    "\n",
    "\n",
    "        allocate(afferentPools(2))\n",
    "        pool = 'Ia'\n",
    "        muscle = 'SOL'\n",
    "        afferentPools(1) = AfferentPool(conf, pool, muscle)\n",
    "\n",
    "        pool = 'Ia'\n",
    "        muscle = 'LG'\n",
    "        afferentPools(2) = AfferentPool(conf, pool, muscle)\n",
    "\n",
    "        allocate(neuralTractPools(0))\n",
    "\n",
    "        allocate(motorUnitPools(1))\n",
    "        pool = 'SOL'\n",
    "        motorUnitPools(1) = MotorUnitPool(conf, pool)    \n",
    "\n",
    "\n",
    "        ankle = jointAnkleForceTask(conf, motorUnitPools)\n",
    "        allocate(interneuronPools(0))\n",
    "\n",
    "        synapticNoisePools = synapseFactory(conf, neuralTractPools, &\n",
    "                                            motorUnitPools, &\n",
    "                                            interneuronPools, &\n",
    "                                            afferentPools)\n",
    "\n",
    "\n",
    "        do j = 1, Nsim\n",
    "            Stim(j) = FirstStim + j * (LastStim - FirstStim) / (Nsim - 1.0)\n",
    "            paramTag = 'stimIntensity_PTN'\n",
    "            write(value1, '(F15.6)')Stim(j)\n",
    "            value2 = ''\n",
    "            call conf%changeConfigurationParameter(paramTag, value1,value2)\n",
    "\n",
    "            do i = 1, size(motorUnitPools(1)%unit)\n",
    "                call motorUnitPools(1)%unit(i)%createStimulus()\n",
    "            end do\n",
    "\n",
    "            do i = 1, size(afferentPools(1)%unit)\n",
    "                call afferentPools(1)%unit(i)%createStimulus()\n",
    "            end do\n",
    "            do i = 1, size(afferentPools(2)%unit)\n",
    "                call afferentPools(2)%unit(i)%createStimulus()\n",
    "            end do\n",
    "\n",
    "\n",
    "            spindleFR = 0.0\n",
    "            call cpu_time(tic)\n",
    "            do i = 1, timeLength\n",
    "                call motorUnitPools(1)%atualizeMotorUnitPool(t(i))\n",
    "                call afferentPools(1)%atualizeAfferentPool(t(i),spindleFR)\n",
    "                call afferentPools(2)%atualizeAfferentPool(t(i),spindleFR)\n",
    "            end do\n",
    "            call cpu_time(toc)\n",
    "            print '(F15.6, A)', toc - tic, ' seconds'\n",
    "            call motorUnitPools(1)%getMotorUnitPoolEMG()\n",
    "            Mp(j) = maxval(motorUnitPools(1)%emg(1:500)) - minval(motorUnitPools(1)%emg(1:500))\n",
    "            Hp(j) = maxval(motorUnitPools(1)%emg(501:)) - minval(motorUnitPools(1)%emg(501:))\n",
    "            print '(F15.6)', Mp(j)\n",
    "            print '(F15.6)', Hp(j)\n",
    "            emg(:,j) = motorUnitPools(1)%emg\n",
    "            call motorUnitPools(1)%listSpikes()\n",
    "            call afferentPools(1)%listSpikes()\n",
    "            call afferentPools(2)%listSpikes()\n",
    "            write(fileNumber, '(I2)')j\n",
    "            filename = 'spikes'// fileNumber //'.txt'\n",
    "            open(1, file=filename, status = 'replace') \n",
    "\n",
    "            do i = 1, size(motorUnitPools(1)%poolTerminalSpikes, 1)            \n",
    "                write(1, '(F15.6, 1X, F15.1)') motorUnitPools(1)%poolTerminalSpikes(i,1),&\n",
    "                            motorUnitPools(1)%poolTerminalSpikes(i,2)\n",
    "            end do\n",
    "            close(1)\n",
    "\n",
    "            call motorUnitPools(1)%reset()\n",
    "            call afferentPools(1)%reset()\n",
    "            call afferentPools(2)%reset()\n",
    "        end do\n",
    "\n",
    "        call gp%title('EMG')\n",
    "        call gp%xlabel('t (ms))')\n",
    "        call gp%ylabel('emg (mV)')\n",
    "        call gp%plot(t, emg(:,10),  'with line lw 2 lc rgb \"#0008B0\"')\n",
    "\n",
    "        call gp%title('Hp')\n",
    "        call gp%xlabel('Stimulus intensity (mA)')\n",
    "        call gp%ylabel('EMG peak (mV)')\n",
    "        call gp%plot(Stim, Hp, 'with line lw 2 lc rgb \"#0008B0\"')\n",
    "\n",
    "        call gp%title('Mp')\n",
    "        call gp%xlabel('Stimulus intensity (mA)')\n",
    "        call gp%ylabel('EMG peak (mV)')\n",
    "        call gp%plot(Stim, Mp, 'with line lw 2 lc rgb \"#0008B0\"')\n",
    "\n",
    "        call gp%title('Mp-Hp')\n",
    "        call gp%xlabel('Stimulus intensity (mA)')\n",
    "        call gp%ylabel('EMG peak (mV)')\n",
    "        call gp%plot(x1=Stim, y1=Mp, ls1='with line lw 2 lc rgb \"blue\"', &\n",
    "                     x2 = Stim, y2 = Hp, ls2='with line lw 2 lc rgb \"red\"')\n",
    "\n",
    "        print '(F15.6)', maxval(Hp)/maxval(Mp)   \n",
    "    end subroutine\n",
    "\n",
    "    \n",
    "end module HReflexMWave"
   ]
  },
  {
   "cell_type": "code",
   "execution_count": 4,
   "metadata": {},
   "outputs": [
    {
     "name": "stdout",
     "output_type": "stream",
     "text": [
      "Gnu95FCompiler instance properties:\n",
      "  archiver        = ['/usr/bin/gfortran', '-cr']\n",
      "  compile_switch  = '-c'\n",
      "  compiler_f77    = ['/usr/bin/gfortran', '-Wall', '-g', '-ffixed-form', '-\n",
      "                    fno-second-underscore', '-fPIC', '-O3', '-funroll-loops']\n",
      "  compiler_f90    = ['/usr/bin/gfortran', '-Wall', '-g', '-fno-second-\n",
      "                    underscore', '-fPIC', '-O3', '-funroll-loops']\n",
      "  compiler_fix    = ['/usr/bin/gfortran', '-Wall', '-g', '-ffixed-form', '-\n",
      "                    fno-second-underscore', '-Wall', '-g', '-fno-second-\n",
      "                    underscore', '-fPIC', '-O3', '-funroll-loops']\n",
      "  libraries       = ['gfortran']\n",
      "  library_dirs    = ['/usr/lib/gcc/x86_64-linux-gnu/5', '/usr/lib/gcc/x86_64\n",
      "                    -linux-gnu/5']\n",
      "  linker_exe      = ['/usr/bin/gfortran', '-Wall', '-Wall']\n",
      "  linker_so       = ['/usr/bin/gfortran', '-Wall', '-g', '-Wall', '-g', '-\n",
      "                    shared']\n",
      "  object_switch   = '-o '\n",
      "  ranlib          = ['/usr/bin/gfortran']\n",
      "  version         = LooseVersion ('5.5.0')\n",
      "  version_cmd     = ['/usr/bin/gfortran', '-dumpversion']\n",
      "Fortran compilers found:\n",
      "  --fcompiler=gnu95  GNU Fortran 95 compiler (5.5.0)\n",
      "Compilers available for this platform, but not found:\n",
      "  --fcompiler=absoft   Absoft Corp Fortran Compiler\n",
      "  --fcompiler=compaq   Compaq Fortran Compiler\n",
      "  --fcompiler=g95      G95 Fortran Compiler\n",
      "  --fcompiler=gnu      GNU Fortran 77 compiler\n",
      "  --fcompiler=intel    Intel Fortran Compiler for 32-bit apps\n",
      "  --fcompiler=intele   Intel Fortran Compiler for Itanium apps\n",
      "  --fcompiler=intelem  Intel Fortran Compiler for 64-bit apps\n",
      "  --fcompiler=lahey    Lahey/Fujitsu Fortran 95 Compiler\n",
      "  --fcompiler=nag      NAGWare Fortran 95 Compiler\n",
      "  --fcompiler=nagfor   NAG Fortran Compiler\n",
      "  --fcompiler=pathf95  PathScale Fortran Compiler\n",
      "  --fcompiler=pg       Portland Group Fortran Compiler\n",
      "  --fcompiler=vast     Pacific-Sierra Research Fortran 90 Compiler\n",
      "Compilers not available on this platform:\n",
      "  --fcompiler=flang     Portland Group Fortran LLVM Compiler\n",
      "  --fcompiler=hpux      HP Fortran 90 Compiler\n",
      "  --fcompiler=ibm       IBM XL Fortran Compiler\n",
      "  --fcompiler=intelev   Intel Visual Fortran Compiler for Itanium apps\n",
      "  --fcompiler=intelv    Intel Visual Fortran Compiler for 32-bit apps\n",
      "  --fcompiler=intelvem  Intel Visual Fortran Compiler for 64-bit apps\n",
      "  --fcompiler=mips      MIPSpro Fortran Compiler\n",
      "  --fcompiler=none      Fake Fortran compiler\n",
      "  --fcompiler=sun       Sun or Forte Fortran 95 Compiler\n",
      "For compiler details, run 'config_fc --verbose' setup command.\n",
      "Removing build directory /tmp/tmpr3pn8__t\n"
     ]
    }
   ],
   "source": [
    "%f2py_help --fcompiler"
   ]
  },
  {
   "cell_type": "code",
   "execution_count": null,
   "metadata": {},
   "outputs": [],
   "source": []
  }
 ],
 "metadata": {
  "celltoolbar": "Tags",
  "kernelspec": {
   "display_name": "Python 3",
   "language": "python",
   "name": "python3"
  },
  "language_info": {
   "codemirror_mode": {
    "name": "ipython",
    "version": 3
   },
   "file_extension": ".py",
   "mimetype": "text/x-python",
   "name": "python",
   "nbconvert_exporter": "python",
   "pygments_lexer": "ipython3",
   "version": "3.6.6"
  },
  "nbTranslate": {
   "displayLangs": [
    "*"
   ],
   "hotkey": "alt-t",
   "langInMainMenu": true,
   "sourceLang": "en",
   "targetLang": "pt",
   "useGoogleTranslate": true
  }
 },
 "nbformat": 4,
 "nbformat_minor": 2
}
